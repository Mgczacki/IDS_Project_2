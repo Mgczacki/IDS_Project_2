{
 "cells": [
  {
   "cell_type": "code",
   "execution_count": 1,
   "id": "dda806d9-74b4-4f3f-b9f6-9825c72ac5b9",
   "metadata": {},
   "outputs": [],
   "source": [
    "import numpy as np\n",
    "import pandas as pd\n",
    "import scipy.stats as stats\n",
    "import matplotlib.pyplot as plt"
   ]
  },
  {
   "cell_type": "code",
   "execution_count": 2,
   "id": "888c8fad-97d2-43a6-8697-0cd22f0b225c",
   "metadata": {},
   "outputs": [],
   "source": [
    "df = pd.read_csv('../movieReplicationSet.csv')"
   ]
  },
  {
   "cell_type": "code",
   "execution_count": 3,
   "id": "ca1a7aee-34f2-404e-a924-841780b77737",
   "metadata": {},
   "outputs": [
    {
     "data": {
      "text/html": [
       "<div>\n",
       "<style scoped>\n",
       "    .dataframe tbody tr th:only-of-type {\n",
       "        vertical-align: middle;\n",
       "    }\n",
       "\n",
       "    .dataframe tbody tr th {\n",
       "        vertical-align: top;\n",
       "    }\n",
       "\n",
       "    .dataframe thead th {\n",
       "        text-align: right;\n",
       "    }\n",
       "</style>\n",
       "<table border=\"1\" class=\"dataframe\">\n",
       "  <thead>\n",
       "    <tr style=\"text-align: right;\">\n",
       "      <th></th>\n",
       "      <th>The Life of David Gale (2003)</th>\n",
       "      <th>Wing Commander (1999)</th>\n",
       "      <th>Django Unchained (2012)</th>\n",
       "      <th>Alien (1979)</th>\n",
       "      <th>Indiana Jones and the Last Crusade (1989)</th>\n",
       "      <th>Snatch (2000)</th>\n",
       "      <th>Rambo: First Blood Part II (1985)</th>\n",
       "      <th>Fargo (1996)</th>\n",
       "      <th>Let the Right One In (2008)</th>\n",
       "      <th>Black Swan (2010)</th>\n",
       "      <th>...</th>\n",
       "      <th>When watching a movie I cheer or shout or talk or curse at the screen</th>\n",
       "      <th>When watching a movie I feel like the things on the screen are happening to me</th>\n",
       "      <th>As a movie unfolds I start to have problems keeping track of events that happened earlier</th>\n",
       "      <th>The emotions on the screen \"rub off\" on me - for instance if something sad is happening I get sad or if something frightening is happening I get scared</th>\n",
       "      <th>When watching a movie I get completely immersed in the alternative reality of the film</th>\n",
       "      <th>Movies change my position on social economic or political issues</th>\n",
       "      <th>When watching movies things get so intense that I have to stop watching</th>\n",
       "      <th>Gender identity (1 = female; 2 = male; 3 = self-described)</th>\n",
       "      <th>Are you an only child? (1: Yes; 0: No; -1: Did not respond)</th>\n",
       "      <th>Movies are best enjoyed alone (1: Yes; 0: No; -1: Did not respond)</th>\n",
       "    </tr>\n",
       "  </thead>\n",
       "  <tbody>\n",
       "    <tr>\n",
       "      <th>0</th>\n",
       "      <td>NaN</td>\n",
       "      <td>NaN</td>\n",
       "      <td>4.0</td>\n",
       "      <td>NaN</td>\n",
       "      <td>3.0</td>\n",
       "      <td>NaN</td>\n",
       "      <td>NaN</td>\n",
       "      <td>NaN</td>\n",
       "      <td>NaN</td>\n",
       "      <td>NaN</td>\n",
       "      <td>...</td>\n",
       "      <td>1.0</td>\n",
       "      <td>6.0</td>\n",
       "      <td>2.0</td>\n",
       "      <td>5.0</td>\n",
       "      <td>5.0</td>\n",
       "      <td>5.0</td>\n",
       "      <td>1.0</td>\n",
       "      <td>1.0</td>\n",
       "      <td>0</td>\n",
       "      <td>1</td>\n",
       "    </tr>\n",
       "    <tr>\n",
       "      <th>1</th>\n",
       "      <td>NaN</td>\n",
       "      <td>NaN</td>\n",
       "      <td>1.5</td>\n",
       "      <td>NaN</td>\n",
       "      <td>NaN</td>\n",
       "      <td>NaN</td>\n",
       "      <td>NaN</td>\n",
       "      <td>NaN</td>\n",
       "      <td>NaN</td>\n",
       "      <td>NaN</td>\n",
       "      <td>...</td>\n",
       "      <td>3.0</td>\n",
       "      <td>1.0</td>\n",
       "      <td>1.0</td>\n",
       "      <td>6.0</td>\n",
       "      <td>5.0</td>\n",
       "      <td>3.0</td>\n",
       "      <td>2.0</td>\n",
       "      <td>1.0</td>\n",
       "      <td>0</td>\n",
       "      <td>0</td>\n",
       "    </tr>\n",
       "    <tr>\n",
       "      <th>2</th>\n",
       "      <td>NaN</td>\n",
       "      <td>NaN</td>\n",
       "      <td>NaN</td>\n",
       "      <td>NaN</td>\n",
       "      <td>NaN</td>\n",
       "      <td>NaN</td>\n",
       "      <td>NaN</td>\n",
       "      <td>NaN</td>\n",
       "      <td>NaN</td>\n",
       "      <td>NaN</td>\n",
       "      <td>...</td>\n",
       "      <td>5.0</td>\n",
       "      <td>4.0</td>\n",
       "      <td>3.0</td>\n",
       "      <td>5.0</td>\n",
       "      <td>5.0</td>\n",
       "      <td>4.0</td>\n",
       "      <td>4.0</td>\n",
       "      <td>1.0</td>\n",
       "      <td>1</td>\n",
       "      <td>0</td>\n",
       "    </tr>\n",
       "    <tr>\n",
       "      <th>3</th>\n",
       "      <td>NaN</td>\n",
       "      <td>NaN</td>\n",
       "      <td>2.0</td>\n",
       "      <td>NaN</td>\n",
       "      <td>3.0</td>\n",
       "      <td>NaN</td>\n",
       "      <td>NaN</td>\n",
       "      <td>NaN</td>\n",
       "      <td>NaN</td>\n",
       "      <td>4.0</td>\n",
       "      <td>...</td>\n",
       "      <td>3.0</td>\n",
       "      <td>1.0</td>\n",
       "      <td>1.0</td>\n",
       "      <td>4.0</td>\n",
       "      <td>5.0</td>\n",
       "      <td>3.0</td>\n",
       "      <td>1.0</td>\n",
       "      <td>1.0</td>\n",
       "      <td>0</td>\n",
       "      <td>1</td>\n",
       "    </tr>\n",
       "    <tr>\n",
       "      <th>4</th>\n",
       "      <td>NaN</td>\n",
       "      <td>NaN</td>\n",
       "      <td>3.5</td>\n",
       "      <td>NaN</td>\n",
       "      <td>0.5</td>\n",
       "      <td>NaN</td>\n",
       "      <td>0.5</td>\n",
       "      <td>1.0</td>\n",
       "      <td>NaN</td>\n",
       "      <td>0.0</td>\n",
       "      <td>...</td>\n",
       "      <td>2.0</td>\n",
       "      <td>3.0</td>\n",
       "      <td>2.0</td>\n",
       "      <td>5.0</td>\n",
       "      <td>6.0</td>\n",
       "      <td>4.0</td>\n",
       "      <td>4.0</td>\n",
       "      <td>1.0</td>\n",
       "      <td>1</td>\n",
       "      <td>1</td>\n",
       "    </tr>\n",
       "    <tr>\n",
       "      <th>...</th>\n",
       "      <td>...</td>\n",
       "      <td>...</td>\n",
       "      <td>...</td>\n",
       "      <td>...</td>\n",
       "      <td>...</td>\n",
       "      <td>...</td>\n",
       "      <td>...</td>\n",
       "      <td>...</td>\n",
       "      <td>...</td>\n",
       "      <td>...</td>\n",
       "      <td>...</td>\n",
       "      <td>...</td>\n",
       "      <td>...</td>\n",
       "      <td>...</td>\n",
       "      <td>...</td>\n",
       "      <td>...</td>\n",
       "      <td>...</td>\n",
       "      <td>...</td>\n",
       "      <td>...</td>\n",
       "      <td>...</td>\n",
       "      <td>...</td>\n",
       "    </tr>\n",
       "    <tr>\n",
       "      <th>1092</th>\n",
       "      <td>NaN</td>\n",
       "      <td>NaN</td>\n",
       "      <td>NaN</td>\n",
       "      <td>NaN</td>\n",
       "      <td>3.5</td>\n",
       "      <td>NaN</td>\n",
       "      <td>NaN</td>\n",
       "      <td>NaN</td>\n",
       "      <td>NaN</td>\n",
       "      <td>NaN</td>\n",
       "      <td>...</td>\n",
       "      <td>3.0</td>\n",
       "      <td>4.0</td>\n",
       "      <td>3.0</td>\n",
       "      <td>5.0</td>\n",
       "      <td>5.0</td>\n",
       "      <td>4.0</td>\n",
       "      <td>4.0</td>\n",
       "      <td>1.0</td>\n",
       "      <td>0</td>\n",
       "      <td>0</td>\n",
       "    </tr>\n",
       "    <tr>\n",
       "      <th>1093</th>\n",
       "      <td>3.0</td>\n",
       "      <td>4.0</td>\n",
       "      <td>NaN</td>\n",
       "      <td>NaN</td>\n",
       "      <td>4.0</td>\n",
       "      <td>4.0</td>\n",
       "      <td>2.5</td>\n",
       "      <td>NaN</td>\n",
       "      <td>3.5</td>\n",
       "      <td>3.5</td>\n",
       "      <td>...</td>\n",
       "      <td>5.0</td>\n",
       "      <td>3.0</td>\n",
       "      <td>5.0</td>\n",
       "      <td>5.0</td>\n",
       "      <td>5.0</td>\n",
       "      <td>6.0</td>\n",
       "      <td>5.0</td>\n",
       "      <td>1.0</td>\n",
       "      <td>0</td>\n",
       "      <td>0</td>\n",
       "    </tr>\n",
       "    <tr>\n",
       "      <th>1094</th>\n",
       "      <td>NaN</td>\n",
       "      <td>NaN</td>\n",
       "      <td>NaN</td>\n",
       "      <td>NaN</td>\n",
       "      <td>NaN</td>\n",
       "      <td>NaN</td>\n",
       "      <td>NaN</td>\n",
       "      <td>3.5</td>\n",
       "      <td>NaN</td>\n",
       "      <td>NaN</td>\n",
       "      <td>...</td>\n",
       "      <td>6.0</td>\n",
       "      <td>3.0</td>\n",
       "      <td>1.0</td>\n",
       "      <td>6.0</td>\n",
       "      <td>6.0</td>\n",
       "      <td>4.0</td>\n",
       "      <td>2.0</td>\n",
       "      <td>1.0</td>\n",
       "      <td>0</td>\n",
       "      <td>0</td>\n",
       "    </tr>\n",
       "    <tr>\n",
       "      <th>1095</th>\n",
       "      <td>NaN</td>\n",
       "      <td>NaN</td>\n",
       "      <td>NaN</td>\n",
       "      <td>NaN</td>\n",
       "      <td>NaN</td>\n",
       "      <td>NaN</td>\n",
       "      <td>NaN</td>\n",
       "      <td>NaN</td>\n",
       "      <td>NaN</td>\n",
       "      <td>NaN</td>\n",
       "      <td>...</td>\n",
       "      <td>1.0</td>\n",
       "      <td>1.0</td>\n",
       "      <td>1.0</td>\n",
       "      <td>4.0</td>\n",
       "      <td>3.0</td>\n",
       "      <td>3.0</td>\n",
       "      <td>1.0</td>\n",
       "      <td>1.0</td>\n",
       "      <td>0</td>\n",
       "      <td>1</td>\n",
       "    </tr>\n",
       "    <tr>\n",
       "      <th>1096</th>\n",
       "      <td>NaN</td>\n",
       "      <td>NaN</td>\n",
       "      <td>4.0</td>\n",
       "      <td>NaN</td>\n",
       "      <td>2.5</td>\n",
       "      <td>NaN</td>\n",
       "      <td>NaN</td>\n",
       "      <td>3.0</td>\n",
       "      <td>NaN</td>\n",
       "      <td>3.5</td>\n",
       "      <td>...</td>\n",
       "      <td>3.0</td>\n",
       "      <td>4.0</td>\n",
       "      <td>1.0</td>\n",
       "      <td>4.0</td>\n",
       "      <td>4.0</td>\n",
       "      <td>4.0</td>\n",
       "      <td>1.0</td>\n",
       "      <td>1.0</td>\n",
       "      <td>0</td>\n",
       "      <td>1</td>\n",
       "    </tr>\n",
       "  </tbody>\n",
       "</table>\n",
       "<p>1097 rows × 477 columns</p>\n",
       "</div>"
      ],
      "text/plain": [
       "      The Life of David Gale (2003)  Wing Commander (1999)  \\\n",
       "0                               NaN                    NaN   \n",
       "1                               NaN                    NaN   \n",
       "2                               NaN                    NaN   \n",
       "3                               NaN                    NaN   \n",
       "4                               NaN                    NaN   \n",
       "...                             ...                    ...   \n",
       "1092                            NaN                    NaN   \n",
       "1093                            3.0                    4.0   \n",
       "1094                            NaN                    NaN   \n",
       "1095                            NaN                    NaN   \n",
       "1096                            NaN                    NaN   \n",
       "\n",
       "      Django Unchained (2012)  Alien (1979)  \\\n",
       "0                         4.0           NaN   \n",
       "1                         1.5           NaN   \n",
       "2                         NaN           NaN   \n",
       "3                         2.0           NaN   \n",
       "4                         3.5           NaN   \n",
       "...                       ...           ...   \n",
       "1092                      NaN           NaN   \n",
       "1093                      NaN           NaN   \n",
       "1094                      NaN           NaN   \n",
       "1095                      NaN           NaN   \n",
       "1096                      4.0           NaN   \n",
       "\n",
       "      Indiana Jones and the Last Crusade (1989)  Snatch (2000)  \\\n",
       "0                                           3.0            NaN   \n",
       "1                                           NaN            NaN   \n",
       "2                                           NaN            NaN   \n",
       "3                                           3.0            NaN   \n",
       "4                                           0.5            NaN   \n",
       "...                                         ...            ...   \n",
       "1092                                        3.5            NaN   \n",
       "1093                                        4.0            4.0   \n",
       "1094                                        NaN            NaN   \n",
       "1095                                        NaN            NaN   \n",
       "1096                                        2.5            NaN   \n",
       "\n",
       "      Rambo: First Blood Part II (1985)  Fargo (1996)  \\\n",
       "0                                   NaN           NaN   \n",
       "1                                   NaN           NaN   \n",
       "2                                   NaN           NaN   \n",
       "3                                   NaN           NaN   \n",
       "4                                   0.5           1.0   \n",
       "...                                 ...           ...   \n",
       "1092                                NaN           NaN   \n",
       "1093                                2.5           NaN   \n",
       "1094                                NaN           3.5   \n",
       "1095                                NaN           NaN   \n",
       "1096                                NaN           3.0   \n",
       "\n",
       "      Let the Right One In (2008)  Black Swan (2010)  ...  \\\n",
       "0                             NaN                NaN  ...   \n",
       "1                             NaN                NaN  ...   \n",
       "2                             NaN                NaN  ...   \n",
       "3                             NaN                4.0  ...   \n",
       "4                             NaN                0.0  ...   \n",
       "...                           ...                ...  ...   \n",
       "1092                          NaN                NaN  ...   \n",
       "1093                          3.5                3.5  ...   \n",
       "1094                          NaN                NaN  ...   \n",
       "1095                          NaN                NaN  ...   \n",
       "1096                          NaN                3.5  ...   \n",
       "\n",
       "      When watching a movie I cheer or shout or talk or curse at the screen  \\\n",
       "0                                                   1.0                       \n",
       "1                                                   3.0                       \n",
       "2                                                   5.0                       \n",
       "3                                                   3.0                       \n",
       "4                                                   2.0                       \n",
       "...                                                 ...                       \n",
       "1092                                                3.0                       \n",
       "1093                                                5.0                       \n",
       "1094                                                6.0                       \n",
       "1095                                                1.0                       \n",
       "1096                                                3.0                       \n",
       "\n",
       "      When watching a movie I feel like the things on the screen are happening to me  \\\n",
       "0                                                   6.0                                \n",
       "1                                                   1.0                                \n",
       "2                                                   4.0                                \n",
       "3                                                   1.0                                \n",
       "4                                                   3.0                                \n",
       "...                                                 ...                                \n",
       "1092                                                4.0                                \n",
       "1093                                                3.0                                \n",
       "1094                                                3.0                                \n",
       "1095                                                1.0                                \n",
       "1096                                                4.0                                \n",
       "\n",
       "      As a movie unfolds I start to have problems keeping track of events that happened earlier  \\\n",
       "0                                                   2.0                                           \n",
       "1                                                   1.0                                           \n",
       "2                                                   3.0                                           \n",
       "3                                                   1.0                                           \n",
       "4                                                   2.0                                           \n",
       "...                                                 ...                                           \n",
       "1092                                                3.0                                           \n",
       "1093                                                5.0                                           \n",
       "1094                                                1.0                                           \n",
       "1095                                                1.0                                           \n",
       "1096                                                1.0                                           \n",
       "\n",
       "      The emotions on the screen \"rub off\" on me - for instance if something sad is happening I get sad or if something frightening is happening I get scared  \\\n",
       "0                                                   5.0                                                                                                         \n",
       "1                                                   6.0                                                                                                         \n",
       "2                                                   5.0                                                                                                         \n",
       "3                                                   4.0                                                                                                         \n",
       "4                                                   5.0                                                                                                         \n",
       "...                                                 ...                                                                                                         \n",
       "1092                                                5.0                                                                                                         \n",
       "1093                                                5.0                                                                                                         \n",
       "1094                                                6.0                                                                                                         \n",
       "1095                                                4.0                                                                                                         \n",
       "1096                                                4.0                                                                                                         \n",
       "\n",
       "      When watching a movie I get completely immersed in the alternative reality of the film  \\\n",
       "0                                                   5.0                                        \n",
       "1                                                   5.0                                        \n",
       "2                                                   5.0                                        \n",
       "3                                                   5.0                                        \n",
       "4                                                   6.0                                        \n",
       "...                                                 ...                                        \n",
       "1092                                                5.0                                        \n",
       "1093                                                5.0                                        \n",
       "1094                                                6.0                                        \n",
       "1095                                                3.0                                        \n",
       "1096                                                4.0                                        \n",
       "\n",
       "      Movies change my position on social economic or political issues  \\\n",
       "0                                                   5.0                  \n",
       "1                                                   3.0                  \n",
       "2                                                   4.0                  \n",
       "3                                                   3.0                  \n",
       "4                                                   4.0                  \n",
       "...                                                 ...                  \n",
       "1092                                                4.0                  \n",
       "1093                                                6.0                  \n",
       "1094                                                4.0                  \n",
       "1095                                                3.0                  \n",
       "1096                                                4.0                  \n",
       "\n",
       "      When watching movies things get so intense that I have to stop watching  \\\n",
       "0                                                   1.0                         \n",
       "1                                                   2.0                         \n",
       "2                                                   4.0                         \n",
       "3                                                   1.0                         \n",
       "4                                                   4.0                         \n",
       "...                                                 ...                         \n",
       "1092                                                4.0                         \n",
       "1093                                                5.0                         \n",
       "1094                                                2.0                         \n",
       "1095                                                1.0                         \n",
       "1096                                                1.0                         \n",
       "\n",
       "      Gender identity (1 = female; 2 = male; 3 = self-described)  \\\n",
       "0                                                   1.0            \n",
       "1                                                   1.0            \n",
       "2                                                   1.0            \n",
       "3                                                   1.0            \n",
       "4                                                   1.0            \n",
       "...                                                 ...            \n",
       "1092                                                1.0            \n",
       "1093                                                1.0            \n",
       "1094                                                1.0            \n",
       "1095                                                1.0            \n",
       "1096                                                1.0            \n",
       "\n",
       "      Are you an only child? (1: Yes; 0: No; -1: Did not respond)  \\\n",
       "0                                                     0             \n",
       "1                                                     0             \n",
       "2                                                     1             \n",
       "3                                                     0             \n",
       "4                                                     1             \n",
       "...                                                 ...             \n",
       "1092                                                  0             \n",
       "1093                                                  0             \n",
       "1094                                                  0             \n",
       "1095                                                  0             \n",
       "1096                                                  0             \n",
       "\n",
       "      Movies are best enjoyed alone (1: Yes; 0: No; -1: Did not respond)  \n",
       "0                                                     1                   \n",
       "1                                                     0                   \n",
       "2                                                     0                   \n",
       "3                                                     1                   \n",
       "4                                                     1                   \n",
       "...                                                 ...                   \n",
       "1092                                                  0                   \n",
       "1093                                                  0                   \n",
       "1094                                                  0                   \n",
       "1095                                                  1                   \n",
       "1096                                                  1                   \n",
       "\n",
       "[1097 rows x 477 columns]"
      ]
     },
     "execution_count": 3,
     "metadata": {},
     "output_type": "execute_result"
    }
   ],
   "source": [
    "df"
   ]
  },
  {
   "cell_type": "code",
   "execution_count": 4,
   "id": "06bafb64-c34c-48bd-b35e-d61ca9747ad3",
   "metadata": {},
   "outputs": [],
   "source": [
    "movie_cols = df.columns[0:400]"
   ]
  },
  {
   "cell_type": "code",
   "execution_count": 5,
   "id": "ea300f36-fb74-4bc8-87d2-440fe4d77b54",
   "metadata": {},
   "outputs": [
    {
     "data": {
      "text/plain": [
       "Index(['The Life of David Gale (2003)', 'Wing Commander (1999)',\n",
       "       'Django Unchained (2012)', 'Alien (1979)',\n",
       "       'Indiana Jones and the Last Crusade (1989)', 'Snatch (2000)',\n",
       "       'Rambo: First Blood Part II (1985)', 'Fargo (1996)',\n",
       "       'Let the Right One In (2008)', 'Black Swan (2010)',\n",
       "       ...\n",
       "       'X-Men 2 (2003)', 'The Usual Suspects (1995)', 'The Mask (1994)',\n",
       "       'Jaws (1975)', 'Harry Potter and the Chamber of Secrets (2002)',\n",
       "       'Patton (1970)', 'Anaconda (1997)', 'Twister (1996)',\n",
       "       'MacArthur (1977)', 'Look Who's Talking (1989)'],\n",
       "      dtype='object', length=400)"
      ]
     },
     "execution_count": 5,
     "metadata": {},
     "output_type": "execute_result"
    }
   ],
   "source": [
    "movie_cols"
   ]
  },
  {
   "cell_type": "code",
   "execution_count": 6,
   "id": "abd623dd-4b2f-4c59-bcaa-586426498aa8",
   "metadata": {},
   "outputs": [],
   "source": [
    "sensation_cols = df.columns[400:420]"
   ]
  },
  {
   "cell_type": "code",
   "execution_count": 7,
   "id": "66d8390f-f159-467b-8fe3-39d70fc221ce",
   "metadata": {},
   "outputs": [
    {
     "data": {
      "text/plain": [
       "Index(['I enjoy driving fast', 'I enjoy rollercoasters ',\n",
       "       'Have you ever bungee-jumped?', 'I enjoy impulse shopping',\n",
       "       'I sometimes go out on weeknights even if I have work to do',\n",
       "       'I enjoy doing things without too much planning ',\n",
       "       'Have you ever been rock climbing?',\n",
       "       'I enjoy being in large loud crowds like the Times Square Ball Drop on New Years Eve',\n",
       "       'I enjoy going to large music or dance festivals ',\n",
       "       'I enjoy watching horror movies', 'No risk - No fun',\n",
       "       'I like to be surprised even if it startles or scares me',\n",
       "       'Have you ever parachuted?', 'I enjoy haunted houses',\n",
       "       'I had a sheltered upbringing', 'My life is very stressful',\n",
       "       'I value my life to be well ordered and predictable',\n",
       "       'Have you ridden a motorcycle?', 'Have you gambled or bet for money?',\n",
       "       'Have you ever been sky-diving?'],\n",
       "      dtype='object')"
      ]
     },
     "execution_count": 7,
     "metadata": {},
     "output_type": "execute_result"
    }
   ],
   "source": [
    "sensation_cols"
   ]
  },
  {
   "cell_type": "code",
   "execution_count": 8,
   "id": "c0d354f0-2a74-4626-a9fd-310a15dd6f17",
   "metadata": {},
   "outputs": [],
   "source": [
    "personality_cols = df.columns[420:464]"
   ]
  },
  {
   "cell_type": "code",
   "execution_count": 9,
   "id": "bf093971-ec72-447d-b8b1-f9d0066f2b0f",
   "metadata": {},
   "outputs": [
    {
     "data": {
      "text/plain": [
       "Index(['Is talkative', 'Tends to find fault with others',\n",
       "       'Does a thorough job', 'Is depressed/Blue',\n",
       "       'Is original/comes up with new ideas', 'Is reserved',\n",
       "       'Is helpful and unselfish with others', 'Can be somewhat careless',\n",
       "       'Is relaxed/handles stress well',\n",
       "       'Is curious about many different things', 'Is full of energy',\n",
       "       'Starts quarrels with others', 'Is a reliable worker', 'Can be tense',\n",
       "       'Is ingenious/a deep thinker', 'Generates a lot of Enthusiasm',\n",
       "       'Has a forgiving nature', 'Tends to be disorganized', 'Worries a lot',\n",
       "       'Has an active imagination', 'Tends to be quiet',\n",
       "       'Is generally trusting', 'Tends to be lazy',\n",
       "       'Is emotionally stable/not easily upset', 'is inventive',\n",
       "       'Has an assertive personality', 'Can be cold and aloof',\n",
       "       'Perseveres until the task is finished', 'Can be moody',\n",
       "       'Values artistic/aesthetic experiences', 'Is sometimes shy/inhibited',\n",
       "       'Is considerate and kind to almost everyone', 'Does things efficiently',\n",
       "       'Remains calm in tense situations', 'Prefers work that is routine',\n",
       "       'is outgoing/sociable', 'Is sometimes rude to others',\n",
       "       'Makes plans and follows through with them', 'Gets nervous easily',\n",
       "       'Likes to reflect/play with ideas', 'Has few artistic interests',\n",
       "       'Likes to cooperate with others', 'Is easily distracted',\n",
       "       'Is sophisticated in art or music or literature'],\n",
       "      dtype='object')"
      ]
     },
     "execution_count": 9,
     "metadata": {},
     "output_type": "execute_result"
    }
   ],
   "source": [
    "personality_cols"
   ]
  },
  {
   "cell_type": "code",
   "execution_count": 10,
   "id": "0c45d0b0-553d-49df-a154-ed4ce3fbb29c",
   "metadata": {},
   "outputs": [],
   "source": [
    "movie_rating_cols = df.columns[464:474]"
   ]
  },
  {
   "cell_type": "code",
   "execution_count": 11,
   "id": "815d2dad-3651-49af-804c-e9bd7bcefeae",
   "metadata": {},
   "outputs": [
    {
     "data": {
      "text/plain": [
       "Index(['I have cried during a movie',\n",
       "       'I have trouble following the story of a movie',\n",
       "       'I have trouble remembering the story of a movie a couple of days after seeing it',\n",
       "       'When watching a movie I cheer or shout or talk or curse at the screen',\n",
       "       'When watching a movie I feel like the things on the screen are happening to me',\n",
       "       'As a movie unfolds I start to have problems keeping track of events that happened earlier',\n",
       "       'The emotions on the screen \"rub off\" on me - for instance if something sad is happening I get sad or if something frightening is happening I get scared',\n",
       "       'When watching a movie I get completely immersed in the alternative reality of the film',\n",
       "       'Movies change my position on social economic or political issues',\n",
       "       'When watching movies things get so intense that I have to stop watching'],\n",
       "      dtype='object')"
      ]
     },
     "execution_count": 11,
     "metadata": {},
     "output_type": "execute_result"
    }
   ],
   "source": [
    "movie_rating_cols"
   ]
  },
  {
   "cell_type": "code",
   "execution_count": 12,
   "id": "face1bad-8905-4968-96e7-652216461915",
   "metadata": {},
   "outputs": [],
   "source": [
    "gender_identity_cols = df.columns[474:475]"
   ]
  },
  {
   "cell_type": "code",
   "execution_count": 13,
   "id": "b72d4e28-c38f-445a-bd1e-0b75391b6194",
   "metadata": {},
   "outputs": [
    {
     "data": {
      "text/plain": [
       "Index(['Gender identity (1 = female; 2 = male; 3 = self-described)'], dtype='object')"
      ]
     },
     "execution_count": 13,
     "metadata": {},
     "output_type": "execute_result"
    }
   ],
   "source": [
    "gender_identity_cols"
   ]
  },
  {
   "cell_type": "code",
   "execution_count": 14,
   "id": "0e164f8d-de48-4f51-8ea3-dbbbe2c31b69",
   "metadata": {},
   "outputs": [],
   "source": [
    "only_child_cols = df.columns[475:476]"
   ]
  },
  {
   "cell_type": "code",
   "execution_count": 15,
   "id": "ce16c511-591a-4871-9b51-92a321c89e4a",
   "metadata": {},
   "outputs": [
    {
     "data": {
      "text/plain": [
       "Index(['Are you an only child? (1: Yes; 0: No; -1: Did not respond)'], dtype='object')"
      ]
     },
     "execution_count": 15,
     "metadata": {},
     "output_type": "execute_result"
    }
   ],
   "source": [
    "only_child_cols"
   ]
  },
  {
   "cell_type": "code",
   "execution_count": 16,
   "id": "e0d3412b-50fb-406e-8533-adbda560cd13",
   "metadata": {},
   "outputs": [],
   "source": [
    "alone_cols = df.columns[476:477]"
   ]
  },
  {
   "cell_type": "code",
   "execution_count": 17,
   "id": "f3b0baa4-4819-407c-aeb5-6366da200aa9",
   "metadata": {},
   "outputs": [
    {
     "data": {
      "text/plain": [
       "Index(['Movies are best enjoyed alone (1: Yes; 0: No; -1: Did not respond)'], dtype='object')"
      ]
     },
     "execution_count": 17,
     "metadata": {},
     "output_type": "execute_result"
    }
   ],
   "source": [
    "alone_cols"
   ]
  },
  {
   "cell_type": "markdown",
   "id": "ef31833e-7e29-4cb2-a4ff-614afc63b151",
   "metadata": {},
   "source": [
    "# AFYD\n",
    "\n",
    "1. **D**: What did you do - what assumptions/choices did you make, if any (e.g. re\n",
    "independence, type of data, etc.)?\n",
    "2. **Y**: Why did you do this - what was the reasoning for doing this (over all other possible things you could have done)?\n",
    "3. **F**: What did you find doing that - at least one number (e.g. a p-value or an effect size), better a number *and* a figure. Context is better – what does the number represent, how was it arrived at (what was the test statistic and degrees of freedom?)\n",
    "4. **A**: Given all of that, how do you answer the question, sth like \"Given that my p value is x, I conclude that y]. If you made any questionable assumptions above, this is also where you might want to state limitations to the scope of your answer, if there are any, and you are aware of them. It's fine to have limitations, if you spell them out (e.g. concerns about alpha inflation, independence, distribution of data, etc - if there are any).\n"
   ]
  },
  {
   "cell_type": "markdown",
   "id": "3b531574-f648-4108-9fa5-d5294f1afa03",
   "metadata": {},
   "source": [
    "# Question 8:"
   ]
  },
  {
   "cell_type": "markdown",
   "id": "82bfeae1-9e0b-4df0-96f0-b8f4eef9ea75",
   "metadata": {},
   "source": [
    "8) What proportion of movies exhibit such a “social watching” effect?"
   ]
  },
  {
   "cell_type": "markdown",
   "id": "075497ad-ef08-43c5-a68f-20d3b71fcbd7",
   "metadata": {},
   "source": [
    "Step 1: Defining social watching:\n",
    "- We will define social watching in this case, as the answer to the question: \"Movies are best enjoyed alone\" By the rater. Because it is otherwise impossible to determine the social watching inclinations of reviewers that did not answer the question, we will not include -1 (did not answer) for this analysis."
   ]
  },
  {
   "cell_type": "code",
   "execution_count": 18,
   "id": "498773f3-f5f5-480d-8226-484f36f57473",
   "metadata": {},
   "outputs": [],
   "source": [
    "alone_viewers = df[alone_cols[0]] == 1\n",
    "social_viewers = df[alone_cols[0]] == 0"
   ]
  },
  {
   "cell_type": "code",
   "execution_count": 19,
   "id": "30945824-b901-4b6f-a57f-999d410d197e",
   "metadata": {},
   "outputs": [],
   "source": [
    "df_alone = df[alone_viewers]\n",
    "df_social = df[social_viewers]"
   ]
  },
  {
   "cell_type": "code",
   "execution_count": 20,
   "id": "1f292814-dea4-402e-ba9d-2968422ed8b7",
   "metadata": {},
   "outputs": [
    {
     "data": {
      "text/plain": [
       "610"
      ]
     },
     "execution_count": 20,
     "metadata": {},
     "output_type": "execute_result"
    }
   ],
   "source": [
    "alone_viewers.sum()"
   ]
  },
  {
   "cell_type": "code",
   "execution_count": 21,
   "id": "e4b50b55-fc89-4af5-9bbe-7e9e10c7e1f7",
   "metadata": {},
   "outputs": [
    {
     "data": {
      "text/plain": [
       "462"
      ]
     },
     "execution_count": 21,
     "metadata": {},
     "output_type": "execute_result"
    }
   ],
   "source": [
    "social_viewers.sum()"
   ]
  },
  {
   "cell_type": "code",
   "execution_count": 22,
   "id": "8c89e17c-fcc8-45ae-9d78-31d81f60aa8d",
   "metadata": {},
   "outputs": [],
   "source": [
    "alpha = 0.005"
   ]
  },
  {
   "cell_type": "code",
   "execution_count": 23,
   "id": "75a7f719-c24d-47ef-b370-d88c789f0698",
   "metadata": {},
   "outputs": [],
   "source": [
    "def check_invalid_movie(movie):\n",
    "    alone_viewers_scores = df_alone[movie].dropna()\n",
    "    social_viewers_scores = df_social[movie].dropna()\n",
    "\n",
    "    if len(alone_viewers_scores) == 0 or len(social_viewers_scores) == 0:\n",
    "        return True\n",
    "    return False"
   ]
  },
  {
   "cell_type": "code",
   "execution_count": 24,
   "id": "3810bf01-9235-48c7-8b53-1f860ca5d0b7",
   "metadata": {},
   "outputs": [
    {
     "data": {
      "text/plain": [
       "[]"
      ]
     },
     "execution_count": 24,
     "metadata": {},
     "output_type": "execute_result"
    }
   ],
   "source": [
    "[m for m in movie_cols if check_invalid_movie(m)]"
   ]
  },
  {
   "cell_type": "markdown",
   "id": "5dc09797-5311-4e24-9301-1a5d9d908efe",
   "metadata": {},
   "source": [
    "There seem to be no movies that cannot be analyzed due to a lack of data."
   ]
  },
  {
   "cell_type": "markdown",
   "id": "1ef5e92a-5cb7-4f28-9448-334a7ac915be",
   "metadata": {},
   "source": [
    "For the following analysis, we will use an alpha level of 0.005 to test for social watching effects"
   ]
  },
  {
   "cell_type": "code",
   "execution_count": 29,
   "id": "2fa1bc7c-bf85-4361-a966-afce84306ecb",
   "metadata": {},
   "outputs": [],
   "source": [
    "def check_social_watching(movie):\n",
    "    alone_viewers_scores = df_alone[movie].dropna()\n",
    "    social_viewers_scores = df_social[movie].dropna()\n",
    "\n",
    "    return stats.mannwhitneyu(alone_viewers_scores, social_viewers_scores).pvalue < alpha\n",
    "    "
   ]
  },
  {
   "cell_type": "code",
   "execution_count": 30,
   "id": "bf9ae38e-8643-4bf2-8b00-23e4cccb4740",
   "metadata": {},
   "outputs": [],
   "source": [
    "social_watching_movies = [m for m in movie_cols if check_social_watching(m)]"
   ]
  },
  {
   "cell_type": "markdown",
   "id": "e14345f5-5009-40f2-b833-980f773ae692",
   "metadata": {},
   "source": [
    "# The movies that display a social watching effect:"
   ]
  },
  {
   "cell_type": "code",
   "execution_count": 31,
   "id": "412aa992-bf96-4bcc-b847-0809cb7a6730",
   "metadata": {},
   "outputs": [
    {
     "data": {
      "text/plain": [
       "['The Silence of the Lambs (1991)',\n",
       " 'North (1994)',\n",
       " 'Inglorious Bastards (2009)',\n",
       " 'Shrek 2 (2004)',\n",
       " 'The Avengers (2012)',\n",
       " 'Spider-Man (2002)',\n",
       " 'Donnie Darko (2001)',\n",
       " 'Apocalypse Now (1979)',\n",
       " 'The Transporter (2002)',\n",
       " 'Captain America: Civil War (2016)']"
      ]
     },
     "execution_count": 31,
     "metadata": {},
     "output_type": "execute_result"
    }
   ],
   "source": [
    "social_watching_movies"
   ]
  },
  {
   "cell_type": "markdown",
   "id": "d483ad24-7cf2-494f-bfae-60abe40c2290",
   "metadata": {},
   "source": [
    "# Proportion:"
   ]
  },
  {
   "cell_type": "code",
   "execution_count": 32,
   "id": "4f8346f9-baf2-4922-8473-ebe85ec6f0e6",
   "metadata": {},
   "outputs": [
    {
     "data": {
      "text/plain": [
       "0.025"
      ]
     },
     "execution_count": 32,
     "metadata": {},
     "output_type": "execute_result"
    }
   ],
   "source": [
    "len(social_watching_movies)/len(movie_cols)"
   ]
  }
 ],
 "metadata": {
  "kernelspec": {
   "display_name": "Python 3 (ipykernel)",
   "language": "python",
   "name": "python3"
  },
  "language_info": {
   "codemirror_mode": {
    "name": "ipython",
    "version": 3
   },
   "file_extension": ".py",
   "mimetype": "text/x-python",
   "name": "python",
   "nbconvert_exporter": "python",
   "pygments_lexer": "ipython3",
   "version": "3.11.4"
  }
 },
 "nbformat": 4,
 "nbformat_minor": 5
}
